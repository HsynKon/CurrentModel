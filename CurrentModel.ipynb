{
 "cells": [
  {
   "cell_type": "code",
   "execution_count": null,
   "metadata": {},
   "outputs": [],
   "source": [
    "import lightkurve as lk\n",
    "import numpy as np\n",
    "import matplotlib.pyplot as plt\n",
    "import exoplanet as xo\n",
    "import astropy.units as u\n",
    "from astropy.io import fits\n",
    "from astropy.timeseries import BoxLeastSquares\n",
    "%matplotlib inline"
   ]
  },
  {
   "cell_type": "code",
   "execution_count": null,
   "metadata": {},
   "outputs": [],
   "source": [
    "from lightkurve import KeplerTargetPixelFile\n",
    "import lightkurve as lk\n",
    "tpf = KeplerTargetPixelFile(\"file location\") #enter file location and be sure that it is a TargetPixelFile\n",
    "tpf"
   ]
  },
  {
   "cell_type": "code",
   "execution_count": null,
   "metadata": {},
   "outputs": [],
   "source": [
    "tpf.plot()"
   ]
  },
  {
   "cell_type": "code",
   "execution_count": null,
   "metadata": {},
   "outputs": [],
   "source": [
    "lcur = tpf.to_lightcurve()"
   ]
  },
  {
   "cell_type": "code",
   "execution_count": null,
   "metadata": {},
   "outputs": [],
   "source": [
    "lcur.scatter();"
   ]
  },
  {
   "cell_type": "code",
   "execution_count": null,
   "metadata": {},
   "outputs": [],
   "source": [
    "flat_lc = lcur.flatten(window_length=value) #value should be an odd integer\n",
    "flat_lc.scatter();"
   ]
  },
  {
   "cell_type": "code",
   "execution_count": null,
   "metadata": {},
   "outputs": [],
   "source": [
    "mask = (flat_lc.time < x) | (flat_lc.time > y) #x equals starting value of the mask and y equals ending value\n",
    "masked_lc = flat_lc[mask]\n",
    "masked_lc.scatter();"
   ]
  },
  {
   "cell_type": "code",
   "execution_count": null,
   "metadata": {},
   "outputs": [],
   "source": [
    "clipped_lc = mask_lc.remove_outliers(sigma=value) #value in this line equals to the strenght of the clipping\n",
    "clipped_lc.scatter()"
   ]
  },
  {
   "cell_type": "code",
   "execution_count": null,
   "metadata": {},
   "outputs": [],
   "source": [
    "lc = clipped_lc"
   ]
  },
  {
   "cell_type": "code",
   "execution_count": null,
   "metadata": {},
   "outputs": [],
   "source": [
    "def lc_analysis(x, y, yerr, periods=None):\n",
    "    \"\"\"Plots the timeseries for given periods\"\"\"\n",
    "    if periods is None:\n",
    "        print(\"\"\"You must specify the periods limits to search for transits.\n",
    "                 Periods format: [[min_period1, ...,min_periodn]]\n",
    "                                  [max_period1, ...,max_periodn]]\"\"\")\n",
    "        return\n",
    "    # Plot relative flux time series\n",
    "    print(\"\\n Light curve flux time series:\")\n",
    "    plt.figure(figsize=(16,5))\n",
    "    plt.plot(x, y, \"k\", linewidth=0.5)\n",
    "    plt.xlabel(\"Time [BKJD]\")\n",
    "    plt.ylabel(\"Relative Flux\")\n",
    "    plt.show()\n",
    "    # Now use a box least squares periodogram to find transits\n",
    "    # Periods format: [[min_period1, ...,min_periodn]]\n",
    "    #                  [max_period1, ...,max_periodn]]\n",
    "    plt.figure(figsize=(16, 5))\n",
    "    print(\"\\n Harmonics are in highlighted in red.\")\n",
    "    \n",
    "    for column in range(np.shape(periods)[1]):\n",
    "        periodogram = xo.estimators.bls_estimator(x, y, yerr, min_period=periods[0][column], max_period=periods[1][column])\n",
    "        peak = periodogram[\"peak_info\"]\n",
    "        t0_guess = peak[\"transit_time\"]  # Time of first transit guesses\n",
    "        period_guess = peak[\"period\"]  # Period guesses\n",
    "        depth_guess = peak[\"depth\"]  # Depths guesses\n",
    "        plt.plot(periodogram[\"bls\"].period, periodogram[\"bls\"].power, \"k\", lw=0.5)\n",
    "        label = np.round(period_guess, decimals=3)\n",
    "        plt.axvline(period_guess*4, alpha=0.3, linewidth=5, color=\"red\")\n",
    "        plt.axvline(period_guess*3, alpha=0.3, linewidth=5, color=\"red\")\n",
    "        plt.axvline(period_guess*2, alpha=0.3, linewidth=5, color=\"red\")\n",
    "        plt.axvline(period_guess, alpha=0.3, linewidth=5)\n",
    "        plt.axvline(period_guess/2, alpha=0.3, linewidth=5, color=\"red\")\n",
    "        plt.axvline(period_guess/4, alpha=0.3, linewidth=5, color=\"red\")\n",
    "        plt.axvline(period_guess/8, alpha=0.3, linewidth=5, color=\"red\")\n",
    "        txt = f\"Period = {label}[BKJD]\"\n",
    "        plt.annotate(txt, (0, 0), xycoords=\"axes fraction\", xytext=(5, 250 - 15 * column),\n",
    "                     textcoords=\"offset points\", ha=\"left\",va=\"bottom\", fontsize=12)\n",
    "    plt.xlabel(\"Period [BKJD]\") #Time needs to be changes depending on the format. BJD, BTJD etc.\n",
    "    plt.ylabel(\"BLS Power\")\n",
    "    plt.xlim(periods[0].min(), periods[1].max())\n",
    "    plt.grid()\n",
    "    plt.show()\n",
    "    return x, y, yerr"
   ]
  },
  {
   "cell_type": "code",
   "execution_count": null,
   "metadata": {},
   "outputs": [],
   "source": [
    "x_lc, y_lc, yerr_lc = lc_analysis(lc.time, lc.flux, lc.flux_err, periods=np.array([[value1], [value2]])) #change value 1 and 2 dependng on the period of the system"
   ]
  },
  {
   "cell_type": "code",
   "execution_count": null,
   "metadata": {},
   "outputs": [],
   "source": [
    "clipped_lc.to_csv(\"example.csv\") #export the calibrated light curve in csv format"
   ]
  },
  {
   "cell_type": "code",
   "execution_count": null,
   "metadata": {},
   "outputs": [],
   "source": [
    "clipped_lc.to_fits(\"example.fits\") #export the calibrated light curve in fits format"
   ]
  }
 ],
 "metadata": {
  "kernelspec": {
   "display_name": "Python 3",
   "language": "python",
   "name": "python3"
  },
  "language_info": {
   "codemirror_mode": {
    "name": "ipython",
    "version": 3
   },
   "file_extension": ".py",
   "mimetype": "text/x-python",
   "name": "python",
   "nbconvert_exporter": "python",
   "pygments_lexer": "ipython3",
   "version": "3.7.6"
  }
 },
 "nbformat": 4,
 "nbformat_minor": 4
}
